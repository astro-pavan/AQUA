{
 "cells": [
  {
   "cell_type": "code",
   "execution_count": 3,
   "metadata": {},
   "outputs": [],
   "source": [
    "import pandas as pd\n",
    "import matplotlib.pyplot as plt\n",
    "import numpy as np\n",
    "from scipy.interpolate import interp1d, RegularGridInterpolator"
   ]
  },
  {
   "cell_type": "code",
   "execution_count": 2,
   "metadata": {},
   "outputs": [],
   "source": [
    "# Define column names based on the table header\n",
    "columns = [\n",
    "    \"rho\", \"temp\", \"press\", \"ad_grad\", \"s\", \"u\", \"c\", \"mmw\", \"x_ion\", \"x_d\", \"phase\"\n",
    "]\n",
    "\n",
    "# Specify column data types\n",
    "dtype_mapping = {\n",
    "    \"rho\": float, \"temp\": float, \"press\": float, \"ad_grad\": float,\n",
    "    \"s\": float, \"u\": float, \"c\": float, \"mmw\": float, \"x_ion\": float, \"x_d\": float, \"phase\": int\n",
    "}\n",
    "\n",
    "# Read the data, skipping metadata and header lines\n",
    "file_path_rhot = \"../Tables/aqua_eos_rhot_v1_0.dat\"\n",
    "df_rhot = pd.read_csv(file_path_rhot, sep='\\s+', names=columns, skiprows=22, engine='python', dtype=dtype_mapping)"
   ]
  },
  {
   "cell_type": "code",
   "execution_count": 3,
   "metadata": {},
   "outputs": [],
   "source": [
    "# Define column names based on the table header\n",
    "columns = [\n",
    "    \"press\", \"temp\", \"rho\", \"ad_grad\", \"s\", \"u\", \"c\", \"mmw\", \"x_ion\", \"x_d\", \"phase\"\n",
    "]\n",
    "\n",
    "# Specify column data types\n",
    "dtype_mapping = {\n",
    "    \"press\": float, \"temp\": float, \"rho\": float, \"ad_grad\": float,\n",
    "    \"s\": float, \"u\": float, \"c\": float, \"mmw\": float, \"x_ion\": float, \"x_d\": float, \"phase\": int\n",
    "}\n",
    "\n",
    "# Read the data, skipping metadata and header lines\n",
    "file_path_pt = \"../Tables/aqua_eos_pt_v1_0.dat\"\n",
    "df_pt = pd.read_csv(file_path_pt, sep='\\s+', names=columns, skiprows=22, engine='python', dtype=dtype_mapping)"
   ]
  },
  {
   "cell_type": "code",
   "execution_count": null,
   "metadata": {},
   "outputs": [],
   "source": [
    "# Read and store the original header (first 13 lines)\n",
    "with open(file_path_rhot, \"r\") as f:\n",
    "    header_lines = [next(f) for _ in range(21)]\n",
    "\n",
    "# Define the format string for data columns\n",
    "format_str = \"{:14.8E} {:14.8E} {:14.8E} {:14.8E} {:14.8E} {:14.8E} {:14.8E} {:14.8E} {:14.8E} {:14.8E} {:.0f}\\n\"\n",
    "\n",
    "output_file = \"../Tables/aqua_eos_rhot_v1_0_modified.dat\"\n",
    "\n",
    "# Write the header and modified DataFrame to a new file\n",
    "with open(output_file, \"w\") as f:\n",
    "    f.writelines(header_lines)  # Write the original header\n",
    "    for _, row in df_rhot.iterrows():\n",
    "        f.write(format_str.format(*row))\n",
    "\n",
    "print(f\"Modified data saved to {output_file} with the original header.\")"
   ]
  },
  {
   "cell_type": "code",
   "execution_count": 4,
   "metadata": {},
   "outputs": [
    {
     "data": {
      "image/png": "[encoded data removed]",
      "text/plain": [
       "<Figure size 640x480 with 1 Axes>"
      ]
     },
     "metadata": {},
     "output_type": "display_data"
    }
   ],
   "source": [
    "T_boundary_3_7 = np.linspace(300, 2250)\n",
    "P_boundary_3_7 = 700e9 * np.ones_like(T_boundary_3_7)\n",
    "\n",
    "T_boundary_5_7 = np.linspace(2250, 4000)\n",
    "P_boundary_5_7 = 10 ** (np.log10(42e9) - np.log10(6) * (((T_boundary_5_7 / 1000) - 2) / 18))\n",
    "\n",
    "T_boundary_6_7 = np.linspace(4000, 30000)\n",
    "P_boundary_6_7 = 0.05e9 + (3e9 - 0.05e9) * (((T_boundary_6_7 / 1000) - 1) / 39)\n",
    "\n",
    "P_boundary_5_7_isothermal = np.linspace(P_boundary_5_7[-1], P_boundary_6_7[0])\n",
    "T_boundary_5_7_isothermal = 4000 * np.ones_like(P_boundary_5_7_isothermal)\n",
    "\n",
    "P_boundary_3_7_isothermal = np.linspace(P_boundary_3_7[-1], P_boundary_5_7[0])\n",
    "T_boundary_3_7_isothermal = 2250 * np.ones_like(P_boundary_5_7_isothermal)\n",
    "\n",
    "plt.plot(T_boundary_5_7, P_boundary_5_7)\n",
    "plt.plot(T_boundary_3_7, P_boundary_3_7)\n",
    "plt.plot(T_boundary_6_7, P_boundary_6_7)\n",
    "plt.plot(T_boundary_5_7_isothermal, P_boundary_5_7_isothermal)\n",
    "plt.plot(T_boundary_3_7_isothermal, P_boundary_3_7_isothermal)\n",
    "\n",
    "k = 2\n",
    "\n",
    "plt.plot(T_boundary_5_7, k * P_boundary_5_7, linestyle='--')\n",
    "plt.plot(T_boundary_3_7, k * P_boundary_3_7, linestyle='--')\n",
    "plt.plot(T_boundary_6_7, k * P_boundary_6_7, linestyle='--')\n",
    "plt.plot(T_boundary_5_7_isothermal, k * P_boundary_5_7_isothermal, linestyle='--')\n",
    "plt.plot(T_boundary_3_7_isothermal, k * P_boundary_3_7_isothermal, linestyle='--')\n",
    "\n",
    "plt.xlim([300, 30000])\n",
    "plt.ylim([1, 1e13])\n",
    "plt.xscale('log')\n",
    "plt.yscale('log')\n",
    "plt.show()"
   ]
  },
  {
   "cell_type": "code",
   "execution_count": 51,
   "metadata": {},
   "outputs": [],
   "source": [
    "def is_in_mazevet(P, T):\n",
    "    # Define boundaries\n",
    "    T_boundary_3_7 = np.linspace(300, 2250)\n",
    "    P_boundary_3_7 = 700e9 * np.ones_like(T_boundary_3_7)\n",
    "    \n",
    "    T_boundary_5_7 = np.linspace(2250, 4000)\n",
    "    P_boundary_5_7 = 10 ** (np.log10(42e9) - np.log10(6) * (((T_boundary_5_7 / 1000) - 2) / 18))\n",
    "    \n",
    "    T_boundary_6_7 = np.linspace(4000, 30000)\n",
    "    P_boundary_6_7 = 0.05e9 + (3e9 - 0.05e9) * (((T_boundary_6_7 / 1000) - 1) / 39)\n",
    "    \n",
    "    P_boundary_5_7_isothermal = np.linspace(P_boundary_5_7[-1], P_boundary_6_7[0])\n",
    "    T_boundary_5_7_isothermal = 4000 * np.ones_like(P_boundary_5_7_isothermal)\n",
    "    \n",
    "    P_boundary_3_7_isothermal = np.linspace(P_boundary_3_7[-1], P_boundary_5_7[0])\n",
    "    T_boundary_3_7_isothermal = 2250 * np.ones_like(P_boundary_5_7_isothermal)\n",
    "    \n",
    "    # Concatenate all boundary points\n",
    "    T_boundaries = np.concatenate([T_boundary_3_7, T_boundary_3_7_isothermal, \n",
    "                                   T_boundary_5_7, T_boundary_5_7_isothermal, T_boundary_6_7])\n",
    "    P_boundaries = np.concatenate([P_boundary_3_7, P_boundary_3_7_isothermal, \n",
    "                                   P_boundary_5_7, P_boundary_5_7_isothermal, P_boundary_6_7])\n",
    "    \n",
    "    P_inner_boundaries = P_boundaries * 2\n",
    "    \n",
    "    # Sort boundary points in ascending order of T\n",
    "    sorted_indices = np.argsort(T_boundaries)\n",
    "    T_boundaries = T_boundaries[sorted_indices]\n",
    "    P_boundaries = P_boundaries[sorted_indices]\n",
    "    P_inner_boundaries = P_inner_boundaries[sorted_indices]\n",
    "    \n",
    "    # Interpolate boundary curve\n",
    "    P_interp = interp1d(T_boundaries, P_boundaries, bounds_error=False, fill_value=(P_boundaries[0], P_boundaries[-1]))\n",
    "    P_inner_interp = interp1d(T_boundaries, P_inner_boundaries, bounds_error=False, fill_value=(P_boundaries[0], P_boundaries[-1]))\n",
    "    \n",
    "    # Check if (T, P) is inside the region\n",
    "    return P <= P_interp(T), P <= P_inner_interp(T)"
   ]
  },
  {
   "cell_type": "code",
   "execution_count": 29,
   "metadata": {},
   "outputs": [],
   "source": [
    "filename = '../SESAME_table/AQUA_H20.txt'"
   ]
  },
  {
   "cell_type": "code",
   "execution_count": null,
   "metadata": {},
   "outputs": [],
   "source": [
    "with open(filename, 'r') as f:\n",
    "    lines = f.readlines()\n",
    "\n",
    "# Extract metadata\n",
    "metadata = []\n",
    "for line in lines:\n",
    "    if line.startswith('#') or line.strip() == '':\n",
    "        metadata.append(line)\n",
    "    else:\n",
    "        break\n",
    "\n",
    "# Extract numerical data\n",
    "data_start_idx = len(metadata) + 1\n",
    "date = int(lines[data_start_idx - 1])\n",
    "num_values = [int(v) for v in lines[data_start_idx].split()]\n",
    "num_rho, num_T = num_values[0], num_values[1]\n",
    "\n",
    "rho = np.array([float(v) for v in lines[data_start_idx + 1].split()])\n",
    "T = np.array([float(v) for v in lines[data_start_idx + 2].split()])\n",
    "\n",
    "table = np.loadtxt(lines[data_start_idx + 3:], dtype=np.float64)\n",
    "u, P, c, s = table[:, 0], table[:, 1], table[:, 2], table[:, 3]\n",
    "\n",
    "u = u.reshape(num_rho, num_T)\n",
    "P = P.reshape(num_rho, num_T)\n",
    "c = c.reshape(num_rho, num_T)\n",
    "s = s.reshape(num_rho, num_T)"
   ]
  },
  {
   "cell_type": "code",
   "execution_count": 43,
   "metadata": {},
   "outputs": [],
   "source": [
    "def make_into_pair_array(arr1, arr2):\n",
    "    # turns two multidimensional numpy arrays into a form that can be used with the scipy interpolator\n",
    "\n",
    "    arr1, arr2 = np.nan_to_num(arr1), np.nan_to_num(arr2)\n",
    "\n",
    "    if type(arr1) is np.ndarray and type(arr2) is np.ndarray:\n",
    "\n",
    "        if arr1.ndim == 0:\n",
    "            return np.array([arr1[()], arr2[0]])\n",
    "        if arr2.ndim == 0:\n",
    "            return np.array([arr1[0], arr2[()]])\n",
    "\n",
    "        try:\n",
    "            assert np.all(arr1.shape == arr2.shape)\n",
    "        except AssertionError:\n",
    "            print(f'arr1 = {arr1} \\n arr1 shape = {arr1.shape}')\n",
    "            print(f'arr2 = {arr2} \\n arr2 shape = {arr2.shape}')\n",
    "            assert np.all(arr1.shape == arr2.shape)\n",
    "\n",
    "        assert arr1.ndim == 1 or arr1.ndim == 2\n",
    "\n",
    "        arr = np.array([arr1, arr2])\n",
    "\n",
    "        if arr1.ndim == 1:\n",
    "            return np.transpose(arr, axes=(1, 0))\n",
    "        elif arr1.ndim == 2:\n",
    "            return np.transpose(arr, axes=(1, 2, 0))\n",
    "\n",
    "    else:\n",
    "\n",
    "        if type(arr1) is np.ndarray:\n",
    "            if arr1.ndim == 1:\n",
    "                arr1 = arr1[0]\n",
    "\n",
    "        if type(arr2) is np.ndarray:\n",
    "            if arr2.ndim == 1:\n",
    "                arr2 = arr2[0]\n",
    "\n",
    "        return np.array([arr1, arr2])"
   ]
  },
  {
   "cell_type": "code",
   "execution_count": null,
   "metadata": {},
   "outputs": [],
   "source": [
    "logP_interpolator = RegularGridInterpolator(\n",
    "            (np.log10(rho), T), np.log10(P),\n",
    "            method='linear', fill_value=None, bounds_error=False\n",
    "        )"
   ]
  },
  {
   "cell_type": "code",
   "execution_count": null,
   "metadata": {},
   "outputs": [],
   "source": [
    "A2_T, A2_rho, = np.meshgrid(T, rho)\n",
    "\n",
    "assert A2_T.shape == P.shape"
   ]
  },
  {
   "cell_type": "code",
   "execution_count": 53,
   "metadata": {},
   "outputs": [],
   "source": [
    "replace_mask, inner_mask = is_in_mazevet(P, A2_T)\n",
    "transition_mask = replace_mask & ~inner_mask"
   ]
  },
  {
   "cell_type": "code",
   "execution_count": null,
   "metadata": {},
   "outputs": [],
   "source": [
    "for i_rho, rho_val in enumerate(rho):\n",
    "    for i_T, T_val in enumerate(T):\n",
    "         P_val = P[i_rho, i_T]\n",
    "         if replace_mask[i_rho, i_T]:\n",
    "            s_new = specific_entropy(rho_val, T_val)"
   ]
  },
  {
   "cell_type": "code",
   "execution_count": 40,
   "metadata": {},
   "outputs": [],
   "source": [
    "modified_file = '../SESAME_table/AQUA_H20_v2.txt'"
   ]
  },
  {
   "cell_type": "code",
   "execution_count": 42,
   "metadata": {},
   "outputs": [],
   "source": [
    "with open(modified_file, 'w') as f:\n",
    "    f.writelines(metadata)\n",
    "    f.write(f'{date}\\n')\n",
    "    f.write(f\"{num_rho} {num_T}\\n\")\n",
    "    f.write(\" \".join(f\"{v:.8e}\" for v in rho) + \"\\n\")\n",
    "    f.write(\" \".join(f\"{v:.8e}\" for v in T) + \"\\n\")\n",
    "    \n",
    "    for i in range(num_rho):\n",
    "        for j in range(num_T):\n",
    "            f.write(f\"{u[i, j]:.8e} {P[i, j]:.8e} {c[i, j]:.8e} {s[i, j]:.8e}\\n\")"
   ]
  }
 ],
 "metadata": {
  "kernelspec": {
   "display_name": ".venv",
   "language": "python",
   "name": "python3"
  },
  "language_info": {
   "codemirror_mode": {
    "name": "ipython",
    "version": 3
   },
   "file_extension": ".py",
   "mimetype": "text/x-python",
   "name": "python",
   "nbconvert_exporter": "python",
   "pygments_lexer": "ipython3",
   "version": "3.9.21"
  }
 },
 "nbformat": 4,
 "nbformat_minor": 2
}
